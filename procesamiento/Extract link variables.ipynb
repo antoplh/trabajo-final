{
 "cells": [
  {
   "cell_type": "code",
   "execution_count": 1,
   "metadata": {},
   "outputs": [],
   "source": [
    "# tratamiento de datos local\n",
    "import pandas as pd\n",
    "import os\n",
    "import re\n",
    "\n",
    "#extraccion de variables de servicios externos\n",
    "import socket\n",
    "import requests\n",
    "from english_words import english_words_lower_alpha_set\n",
    "from bs4 import BeautifulSoup\n",
    "from urllib.parse import urlencode\n",
    "\n",
    "# utilities (loading bar)\n",
    "from tqdm.notebook import tqdm\n",
    "import time"
   ]
  },
  {
   "cell_type": "code",
   "execution_count": 2,
   "metadata": {},
   "outputs": [],
   "source": [
    "def preProcessing(link):\n",
    "    protocol = re.findall('://',link)\n",
    "    slash_final = re.findall('/$', link)\n",
    "    \n",
    "    # añadir :// al principio si no tiene protocolo\n",
    "    if len(protocol) == 0:\n",
    "        link = '://' + link   \n",
    "        \n",
    "    # si al final no tiene / añadirlo\n",
    "    if len(slash_final) == 0:\n",
    "        link = link + '/'\n",
    "    link_arr = re.findall('//[\\w%]+.[\\w\\W]+?/', link)[0].replace('/','').split('.')\n",
    "    \n",
    "    # si no tiene subdominio añadirle www.\n",
    "    if len(link_arr) < 3:\n",
    "        link = link.replace('://','://www.')\n",
    "    \n",
    "    return link\n",
    "\n",
    "def cleanArrayLink(link):\n",
    "    # obtener un array con los componentes de la url antes del / final   \n",
    "    link_array = re.findall('[\\w]*://[\\w\\W]+?/', link)[0].replace('://','://.').split('.')\n",
    "    \n",
    "    # si no tiene tld añadirle .com\n",
    "    if len(link_array) < 4:\n",
    "        link_array[2] = link_array[2].replace('/','')\n",
    "        link_array.append(\"com/\")\n",
    "        \n",
    "    if len(link_array) > 0:\n",
    "        return link_array\n",
    "    else:\n",
    "        return None\n",
    "    \n",
    "def getIP(link):\n",
    "    try:\n",
    "        IP_address = socket.gethostbyname(link)\n",
    "    except:\n",
    "        IP_address = None\n",
    "    return IP_address\n",
    "\n",
    "def getHostName(ip_address):\n",
    "    try:\n",
    "        hostname = socket.gethostbyaddr(ip_address)[0]\n",
    "    except:\n",
    "        hostname = None\n",
    "    return hostname\n",
    "\n",
    "def normalizarAcentos(palabra): # palabra se encuentra como tipo: byte\n",
    "    a,b = 'áéíóúüñÁÉÍÓÚÜÑ','aeiouunAEIOUUN'\n",
    "    trans = str.maketrans(a,b)\n",
    "    \n",
    "    return str(palabra,'utf-8').translate(trans)"
   ]
  },
  {
   "cell_type": "code",
   "execution_count": 1,
   "metadata": {},
   "outputs": [],
   "source": [
    "def armarDB(links_df, nombre_archivo): #tiene que ser dataframe\n",
    "    #if paso == 2:\n",
    "    links_df.columns = ['link']\n",
    "\n",
    "    print(\"# links antes de quitar duplicados: \", len(links_df))\n",
    "    links_df = links_df.drop_duplicates()\n",
    "    print(\"# links despues de quitar duplicados: \", len(links_df))\n",
    "    links_sr =  links_df.squeeze() # pandas serie\n",
    "\n",
    "    links_sr = links_sr.apply(preProcessing)\n",
    "    split_arr_df = links_sr.apply(lambda x: cleanArrayLink(x))\n",
    "\n",
    "    #attr: subominio, tld, protocolo\n",
    "    subdomains = split_arr_df.apply(lambda x: x[1])\n",
    "    top_level = split_arr_df.apply(lambda x: x[3].replace('/',''))\n",
    "    protocol = split_arr_df.apply(lambda x: None if x[0] == '://' else x[0])\n",
    "    norm_links = split_arr_df.apply(lambda x: '.'.join(x[1:]).replace('/',''))\n",
    "\n",
    "    links_df['subdominio'] = subdomains\n",
    "    links_df['top_level_domain'] = top_level\n",
    "    links_df['protocolo'] = protocol\n",
    "\n",
    "    patrones = [r'\\.',\"-\",\"_\",\"=\",\"@\",\"&\",\"!\",r\"\\+\",r\"\\*\",\"#\",r\"\\$\",\"%\",r\"\\?\",\"\\d\"]\n",
    "    links_df[\"num .\"] = links_sr.apply(lambda x: len(re.findall(patrones[0],x)))\n",
    "    links_df[\"num -\"] = links_sr.apply(lambda x: len(re.findall(patrones[1],x)))\n",
    "    links_df[\"num _\"] = links_sr.apply(lambda x: len(re.findall(patrones[2],x)))\n",
    "    links_df[\"num =\"] = links_sr.apply(lambda x: len(re.findall(patrones[3],x)))\n",
    "    links_df[\"num @\"] = links_sr.apply(lambda x: len(re.findall(patrones[4],x)))\n",
    "    links_df[\"num &\"] = links_sr.apply(lambda x: len(re.findall(patrones[5],x)))\n",
    "    links_df[\"num !\"] = links_sr.apply(lambda x: len(re.findall(patrones[6],x)))\n",
    "    links_df[\"num +\"] = links_sr.apply(lambda x: len(re.findall(patrones[7],x)))\n",
    "    links_df[\"num *\"] = links_sr.apply(lambda x: len(re.findall(patrones[8],x)))\n",
    "    links_df[\"num #\"] = links_sr.apply(lambda x: len(re.findall(patrones[9],x)))\n",
    "    links_df[\"num $\"] = links_sr.apply(lambda x: len(re.findall(patrones[10],x)))\n",
    "    links_df[\"num %\"] = links_sr.apply(lambda x: len(re.findall(patrones[11],x)))\n",
    "    links_df[\"num ?\"] = links_sr.apply(lambda x: len(re.findall(patrones[12],x)))\n",
    "    links_df[\"num digitos\"] = links_sr.apply(lambda x: len(re.findall(patrones[13],x)))\n",
    "\n",
    "    links_df.to_csv(nombre_archivo + \"_1.csv\", index = False)\n",
    "    print(\"el archivo se guardó como \" + nombre_archivo + \"_1.csv\")\n",
    "    \n",
    "    # REVISAR PALBRAS\n",
    "    print(\"buscando palabras en ingles...\")\n",
    "    links_df[\"num eng\"] = links_sr.apply(lambda x:sum([1 if w in WORDS else 0 for w in re.findall(\"[\\w]+\",x)]))\n",
    "    print(\"buscando palabras en español...\")\n",
    "    links_df[\"num esp\"] = links_sr.apply(lambda x:sum([1 if w in PALABRAS else 0 for w in re.findall(\"[\\w]+\",x)]))\n",
    "    print(\"buscando palabras fuera del diccionario...\")\n",
    "    links_df[\"num no dic\"] = links_sr.apply(lambda x: len(re.findall(\"[\\w]+\",x)))-links_df[\"num eng\"]-links_df[\"num esp\"]\n",
    "    \n",
    "    links_df.to_csv(nombre_archivo + \"_2.csv\", index = False)\n",
    "    print(\"el archivo se guardó como \" + nombre_archivo + \"_2.csv\")\n",
    "    \n",
    "    return links_df, norm_links, nombre_archivo\n",
    "\n",
    "def armarIpDF(links_df, norm_links, nombre_archivo):\n",
    "    print(\"obteniendo las direcciones ip... (esto puede tardar horas)\")\n",
    "    ip_addresses = [getIP(address) for address in tqdm(norm_links)]\n",
    "    links_df['ip_address'] = ip_addresses\n",
    "\n",
    "    links_df.to_csv(nombre_archivo + \"_3.csv\", index = False)\n",
    "    print(\"el archivo se guardó como \" + nombre_archivo + \"_3.csv\")\n",
    "    return links_df, nombre_archivo\n",
    "\n",
    "# def armarHostnameDF(links_df, nombre_archivo):\n",
    "#     print(\"obteniendo los hostnames... (esto puede tardar horas)\")\n",
    "#     hostnames = [getHostName(ip_address) for ip_address in tqdm(links_df[\"ip_address\"])]\n",
    "#     links_df['hostname'] = hostnames\n",
    "\n",
    "#     links_df.to_csv(nombre_archivo + \"_4.csv\", index = False)\n",
    "#     print(\"el archivo se guardó como \" + nombre_archivo + \"_4.csv\")\n",
    "\n",
    "#     return links_df, nombre_archivo"
   ]
  },
  {
   "cell_type": "code",
   "execution_count": 4,
   "metadata": {},
   "outputs": [],
   "source": [
    "### VARIABLES ADICIONALES ###\n",
    "\n",
    "# palabras en español\n",
    "word_site = \"https://raw.githubusercontent.com/JorgeDuenasLerin/diccionario-espanol-txt/master/0_palabras_todas.txt\"\n",
    "response = requests.get(word_site)\n",
    "\n",
    "PALABRAS = response.content.splitlines()\n",
    "PALABRAS = [normalizarAcentos(w) for w in PALABRAS]\n",
    "\n",
    "# palabras en ingles\n",
    "WORDS = english_words_lower_alpha_set "
   ]
  },
  {
   "cell_type": "code",
   "execution_count": 7,
   "metadata": {},
   "outputs": [
    {
     "data": {
      "text/html": [
       "<div>\n",
       "<style scoped>\n",
       "    .dataframe tbody tr th:only-of-type {\n",
       "        vertical-align: middle;\n",
       "    }\n",
       "\n",
       "    .dataframe tbody tr th {\n",
       "        vertical-align: top;\n",
       "    }\n",
       "\n",
       "    .dataframe thead th {\n",
       "        text-align: right;\n",
       "    }\n",
       "</style>\n",
       "<table border=\"1\" class=\"dataframe\">\n",
       "  <thead>\n",
       "    <tr style=\"text-align: right;\">\n",
       "      <th></th>\n",
       "      <th>0</th>\n",
       "    </tr>\n",
       "  </thead>\n",
       "  <tbody>\n",
       "    <tr>\n",
       "      <th>0</th>\n",
       "      <td>http://www.conceptdraw.com/How-To-Guide/Local-...</td>\n",
       "    </tr>\n",
       "    <tr>\n",
       "      <th>1</th>\n",
       "      <td>https://www.edrawsoft.com/Local-Area-Network.php</td>\n",
       "    </tr>\n",
       "    <tr>\n",
       "      <th>2</th>\n",
       "      <td>http://www.webopedia.com/TERM/L/local_area_net...</td>\n",
       "    </tr>\n",
       "    <tr>\n",
       "      <th>3</th>\n",
       "      <td>https://www.acsac.org/secshelf/book001/16.pdf</td>\n",
       "    </tr>\n",
       "    <tr>\n",
       "      <th>4</th>\n",
       "      <td>http://www.diffen.com/difference/LAN_vs_WAN</td>\n",
       "    </tr>\n",
       "    <tr>\n",
       "      <th>...</th>\n",
       "      <td>...</td>\n",
       "    </tr>\n",
       "    <tr>\n",
       "      <th>71773</th>\n",
       "      <td>https://lastpass.com/signup2.php?ac=1&amp;from_uri...</td>\n",
       "    </tr>\n",
       "    <tr>\n",
       "      <th>71774</th>\n",
       "      <td>https://lastpass.com/signup2.php?ac=1&amp;from_uri...</td>\n",
       "    </tr>\n",
       "    <tr>\n",
       "      <th>71775</th>\n",
       "      <td>https://lastpass.com/signup2.php?ac=1&amp;from_uri...</td>\n",
       "    </tr>\n",
       "    <tr>\n",
       "      <th>71776</th>\n",
       "      <td>https://lastpass.com/signup2.php?ac=1&amp;from_uri...</td>\n",
       "    </tr>\n",
       "    <tr>\n",
       "      <th>71777</th>\n",
       "      <td>https://asana.com/guide/videos/%22//fast.wisti...</td>\n",
       "    </tr>\n",
       "  </tbody>\n",
       "</table>\n",
       "<p>65288 rows × 1 columns</p>\n",
       "</div>"
      ],
      "text/plain": [
       "                                                       0\n",
       "0      http://www.conceptdraw.com/How-To-Guide/Local-...\n",
       "1       https://www.edrawsoft.com/Local-Area-Network.php\n",
       "2      http://www.webopedia.com/TERM/L/local_area_net...\n",
       "3          https://www.acsac.org/secshelf/book001/16.pdf\n",
       "4            http://www.diffen.com/difference/LAN_vs_WAN\n",
       "...                                                  ...\n",
       "71773  https://lastpass.com/signup2.php?ac=1&from_uri...\n",
       "71774  https://lastpass.com/signup2.php?ac=1&from_uri...\n",
       "71775  https://lastpass.com/signup2.php?ac=1&from_uri...\n",
       "71776  https://lastpass.com/signup2.php?ac=1&from_uri...\n",
       "71777  https://asana.com/guide/videos/%22//fast.wisti...\n",
       "\n",
       "[65288 rows x 1 columns]"
      ]
     },
     "execution_count": 7,
     "metadata": {},
     "output_type": "execute_result"
    }
   ],
   "source": [
    "data_ruta = r'D:\\Documentos\\UP\\2021\\2021-2\\trabajo final\\extract variables\\data'\n",
    "phishing_db = os.listdir(data_ruta)\n",
    "df_ebbu = pd.read_json('data/data_legitimate_36400.json')\n",
    "df_iscx = pd.read_csv('data/Benign_list_big_final.csv',header = None)\n",
    "legit_df = pd.concat([df_ebbu, df_iscx]).reset_index(drop=True).drop_duplicates()\n",
    "#df_phtk = pd.read_csv('data/phishtank2_ph.txt', sep = '\\t', header = None) #ya limpie los ...\n",
    "#df_phtk \n",
    "legit_df"
   ]
  },
  {
   "cell_type": "code",
   "execution_count": 8,
   "metadata": {
    "scrolled": true
   },
   "outputs": [
    {
     "name": "stdout",
     "output_type": "stream",
     "text": [
      "# links antes de quitar duplicados:  65288\n",
      "# links despues de quitar duplicados:  65288\n",
      "el archivo se guardó como ligit_df_1.csv\n",
      "buscando palabras en ingles...\n",
      "buscando palabras en español...\n",
      "el archivo se guardó como ligit_df_2.csv\n",
      "obteniendo las direcciones ip... (esto puede tardar horas)\n"
     ]
    },
    {
     "data": {
      "application/vnd.jupyter.widget-view+json": {
       "model_id": "39f2e7fcf1814171826a79a86b7f8e29",
       "version_major": 2,
       "version_minor": 0
      },
      "text/plain": [
       "HBox(children=(FloatProgress(value=0.0, max=65288.0), HTML(value='')))"
      ]
     },
     "metadata": {},
     "output_type": "display_data"
    },
    {
     "name": "stdout",
     "output_type": "stream",
     "text": [
      "\n",
      "el archivo se guardó como ligit_df_3.csv\n",
      "obteniendo los hostnames... (esto puede tardar horas)\n"
     ]
    },
    {
     "data": {
      "application/vnd.jupyter.widget-view+json": {
       "model_id": "73d120540081495a818dfac755b81c98",
       "version_major": 2,
       "version_minor": 0
      },
      "text/plain": [
       "HBox(children=(FloatProgress(value=0.0, max=65288.0), HTML(value='')))"
      ]
     },
     "metadata": {},
     "output_type": "display_data"
    },
    {
     "ename": "KeyboardInterrupt",
     "evalue": "",
     "output_type": "error",
     "traceback": [
      "\u001b[1;31m---------------------------------------------------------------------------\u001b[0m",
      "\u001b[1;31mherror\u001b[0m                                    Traceback (most recent call last)",
      "\u001b[1;32m~\\AppData\\Local\\Temp/ipykernel_20892/350843742.py\u001b[0m in \u001b[0;36mgetHostName\u001b[1;34m(ip_address)\u001b[0m\n\u001b[0;32m     42\u001b[0m     \u001b[1;32mtry\u001b[0m\u001b[1;33m:\u001b[0m\u001b[1;33m\u001b[0m\u001b[1;33m\u001b[0m\u001b[0m\n\u001b[1;32m---> 43\u001b[1;33m         \u001b[0mhostname\u001b[0m \u001b[1;33m=\u001b[0m \u001b[0msocket\u001b[0m\u001b[1;33m.\u001b[0m\u001b[0mgethostbyaddr\u001b[0m\u001b[1;33m(\u001b[0m\u001b[0mip_address\u001b[0m\u001b[1;33m)\u001b[0m\u001b[1;33m[\u001b[0m\u001b[1;36m0\u001b[0m\u001b[1;33m]\u001b[0m\u001b[1;33m\u001b[0m\u001b[1;33m\u001b[0m\u001b[0m\n\u001b[0m\u001b[0;32m     44\u001b[0m     \u001b[1;32mexcept\u001b[0m\u001b[1;33m:\u001b[0m\u001b[1;33m\u001b[0m\u001b[1;33m\u001b[0m\u001b[0m\n",
      "\u001b[1;31mherror\u001b[0m: [Errno 11004] host not found",
      "\nDuring handling of the above exception, another exception occurred:\n",
      "\u001b[1;31mKeyboardInterrupt\u001b[0m                         Traceback (most recent call last)",
      "\u001b[1;32m~\\AppData\\Local\\Temp/ipykernel_20892/1225841555.py\u001b[0m in \u001b[0;36m<module>\u001b[1;34m\u001b[0m\n\u001b[0;32m      2\u001b[0m \u001b[0mlinks_df\u001b[0m\u001b[1;33m,\u001b[0m \u001b[0mnorm_links\u001b[0m\u001b[1;33m,\u001b[0m \u001b[0mnombre_archivo\u001b[0m \u001b[1;33m=\u001b[0m \u001b[0marmarDB\u001b[0m\u001b[1;33m(\u001b[0m\u001b[0mlegit_df\u001b[0m\u001b[1;33m,\u001b[0m \u001b[1;34m\"ligit_df\"\u001b[0m\u001b[1;33m)\u001b[0m\u001b[1;33m\u001b[0m\u001b[1;33m\u001b[0m\u001b[0m\n\u001b[0;32m      3\u001b[0m \u001b[0mlinks_df\u001b[0m\u001b[1;33m,\u001b[0m \u001b[0mnombre_archivo\u001b[0m \u001b[1;33m=\u001b[0m \u001b[0marmarIpDF\u001b[0m\u001b[1;33m(\u001b[0m\u001b[0mlinks_df\u001b[0m\u001b[1;33m,\u001b[0m \u001b[0mnorm_links\u001b[0m\u001b[1;33m,\u001b[0m \u001b[0mnombre_archivo\u001b[0m\u001b[1;33m)\u001b[0m\u001b[1;33m\u001b[0m\u001b[1;33m\u001b[0m\u001b[0m\n\u001b[1;32m----> 4\u001b[1;33m \u001b[0mlinks_df\u001b[0m\u001b[1;33m,\u001b[0m \u001b[0mnombre_archivo\u001b[0m \u001b[1;33m=\u001b[0m \u001b[0marmarHostnameDF\u001b[0m\u001b[1;33m(\u001b[0m\u001b[0mlinks_df\u001b[0m\u001b[1;33m,\u001b[0m \u001b[0mnombre_archivo\u001b[0m\u001b[1;33m)\u001b[0m\u001b[1;33m\u001b[0m\u001b[1;33m\u001b[0m\u001b[0m\n\u001b[0m",
      "\u001b[1;32m~\\AppData\\Local\\Temp/ipykernel_20892/1437342477.py\u001b[0m in \u001b[0;36marmarHostnameDF\u001b[1;34m(links_df, nombre_archivo)\u001b[0m\n\u001b[0;32m     64\u001b[0m \u001b[1;32mdef\u001b[0m \u001b[0marmarHostnameDF\u001b[0m\u001b[1;33m(\u001b[0m\u001b[0mlinks_df\u001b[0m\u001b[1;33m,\u001b[0m \u001b[0mnombre_archivo\u001b[0m\u001b[1;33m)\u001b[0m\u001b[1;33m:\u001b[0m\u001b[1;33m\u001b[0m\u001b[1;33m\u001b[0m\u001b[0m\n\u001b[0;32m     65\u001b[0m     \u001b[0mprint\u001b[0m\u001b[1;33m(\u001b[0m\u001b[1;34m\"obteniendo los hostnames... (esto puede tardar horas)\"\u001b[0m\u001b[1;33m)\u001b[0m\u001b[1;33m\u001b[0m\u001b[1;33m\u001b[0m\u001b[0m\n\u001b[1;32m---> 66\u001b[1;33m     \u001b[0mhostnames\u001b[0m \u001b[1;33m=\u001b[0m \u001b[1;33m[\u001b[0m\u001b[0mgetHostName\u001b[0m\u001b[1;33m(\u001b[0m\u001b[0mip_address\u001b[0m\u001b[1;33m)\u001b[0m \u001b[1;32mfor\u001b[0m \u001b[0mip_address\u001b[0m \u001b[1;32min\u001b[0m \u001b[0mtqdm\u001b[0m\u001b[1;33m(\u001b[0m\u001b[0mlinks_df\u001b[0m\u001b[1;33m[\u001b[0m\u001b[1;34m\"ip_address\"\u001b[0m\u001b[1;33m]\u001b[0m\u001b[1;33m)\u001b[0m\u001b[1;33m]\u001b[0m\u001b[1;33m\u001b[0m\u001b[1;33m\u001b[0m\u001b[0m\n\u001b[0m\u001b[0;32m     67\u001b[0m     \u001b[0mlinks_df\u001b[0m\u001b[1;33m[\u001b[0m\u001b[1;34m'hostname'\u001b[0m\u001b[1;33m]\u001b[0m \u001b[1;33m=\u001b[0m \u001b[0mhostnames\u001b[0m\u001b[1;33m\u001b[0m\u001b[1;33m\u001b[0m\u001b[0m\n\u001b[0;32m     68\u001b[0m \u001b[1;33m\u001b[0m\u001b[0m\n",
      "\u001b[1;32m~\\AppData\\Local\\Temp/ipykernel_20892/1437342477.py\u001b[0m in \u001b[0;36m<listcomp>\u001b[1;34m(.0)\u001b[0m\n\u001b[0;32m     64\u001b[0m \u001b[1;32mdef\u001b[0m \u001b[0marmarHostnameDF\u001b[0m\u001b[1;33m(\u001b[0m\u001b[0mlinks_df\u001b[0m\u001b[1;33m,\u001b[0m \u001b[0mnombre_archivo\u001b[0m\u001b[1;33m)\u001b[0m\u001b[1;33m:\u001b[0m\u001b[1;33m\u001b[0m\u001b[1;33m\u001b[0m\u001b[0m\n\u001b[0;32m     65\u001b[0m     \u001b[0mprint\u001b[0m\u001b[1;33m(\u001b[0m\u001b[1;34m\"obteniendo los hostnames... (esto puede tardar horas)\"\u001b[0m\u001b[1;33m)\u001b[0m\u001b[1;33m\u001b[0m\u001b[1;33m\u001b[0m\u001b[0m\n\u001b[1;32m---> 66\u001b[1;33m     \u001b[0mhostnames\u001b[0m \u001b[1;33m=\u001b[0m \u001b[1;33m[\u001b[0m\u001b[0mgetHostName\u001b[0m\u001b[1;33m(\u001b[0m\u001b[0mip_address\u001b[0m\u001b[1;33m)\u001b[0m \u001b[1;32mfor\u001b[0m \u001b[0mip_address\u001b[0m \u001b[1;32min\u001b[0m \u001b[0mtqdm\u001b[0m\u001b[1;33m(\u001b[0m\u001b[0mlinks_df\u001b[0m\u001b[1;33m[\u001b[0m\u001b[1;34m\"ip_address\"\u001b[0m\u001b[1;33m]\u001b[0m\u001b[1;33m)\u001b[0m\u001b[1;33m]\u001b[0m\u001b[1;33m\u001b[0m\u001b[1;33m\u001b[0m\u001b[0m\n\u001b[0m\u001b[0;32m     67\u001b[0m     \u001b[0mlinks_df\u001b[0m\u001b[1;33m[\u001b[0m\u001b[1;34m'hostname'\u001b[0m\u001b[1;33m]\u001b[0m \u001b[1;33m=\u001b[0m \u001b[0mhostnames\u001b[0m\u001b[1;33m\u001b[0m\u001b[1;33m\u001b[0m\u001b[0m\n\u001b[0;32m     68\u001b[0m \u001b[1;33m\u001b[0m\u001b[0m\n",
      "\u001b[1;32m~\\AppData\\Local\\Temp/ipykernel_20892/350843742.py\u001b[0m in \u001b[0;36mgetHostName\u001b[1;34m(ip_address)\u001b[0m\n\u001b[0;32m     41\u001b[0m \u001b[1;32mdef\u001b[0m \u001b[0mgetHostName\u001b[0m\u001b[1;33m(\u001b[0m\u001b[0mip_address\u001b[0m\u001b[1;33m)\u001b[0m\u001b[1;33m:\u001b[0m\u001b[1;33m\u001b[0m\u001b[1;33m\u001b[0m\u001b[0m\n\u001b[0;32m     42\u001b[0m     \u001b[1;32mtry\u001b[0m\u001b[1;33m:\u001b[0m\u001b[1;33m\u001b[0m\u001b[1;33m\u001b[0m\u001b[0m\n\u001b[1;32m---> 43\u001b[1;33m         \u001b[0mhostname\u001b[0m \u001b[1;33m=\u001b[0m \u001b[0msocket\u001b[0m\u001b[1;33m.\u001b[0m\u001b[0mgethostbyaddr\u001b[0m\u001b[1;33m(\u001b[0m\u001b[0mip_address\u001b[0m\u001b[1;33m)\u001b[0m\u001b[1;33m[\u001b[0m\u001b[1;36m0\u001b[0m\u001b[1;33m]\u001b[0m\u001b[1;33m\u001b[0m\u001b[1;33m\u001b[0m\u001b[0m\n\u001b[0m\u001b[0;32m     44\u001b[0m     \u001b[1;32mexcept\u001b[0m\u001b[1;33m:\u001b[0m\u001b[1;33m\u001b[0m\u001b[1;33m\u001b[0m\u001b[0m\n\u001b[0;32m     45\u001b[0m         \u001b[0mhostname\u001b[0m \u001b[1;33m=\u001b[0m \u001b[1;32mNone\u001b[0m\u001b[1;33m\u001b[0m\u001b[1;33m\u001b[0m\u001b[0m\n",
      "\u001b[1;31mKeyboardInterrupt\u001b[0m: "
     ]
    }
   ],
   "source": [
    "# WORK PIPE\n",
    "links_df, norm_links, nombre_archivo = armarDB(legit_df, \"ligit_df\")\n",
    "links_df, nombre_archivo = armarIpDF(links_df, norm_links, nombre_archivo)\n",
    "#links_df, nombre_archivo = armarHostnameDF(links_df, nombre_archivo)"
   ]
  },
  {
   "cell_type": "code",
   "execution_count": null,
   "metadata": {},
   "outputs": [],
   "source": []
  }
 ],
 "metadata": {
  "kernelspec": {
   "display_name": "Python 3 (ipykernel)",
   "language": "python",
   "name": "python3"
  },
  "language_info": {
   "codemirror_mode": {
    "name": "ipython",
    "version": 3
   },
   "file_extension": ".py",
   "mimetype": "text/x-python",
   "name": "python",
   "nbconvert_exporter": "python",
   "pygments_lexer": "ipython3",
   "version": "3.8.3"
  }
 },
 "nbformat": 4,
 "nbformat_minor": 4
}
